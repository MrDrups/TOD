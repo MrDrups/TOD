{
  "cells": [
    {
      "cell_type": "markdown",
      "metadata": {
        "id": "beuqjUKH46WF"
      },
      "source": [
        "# Форматы данных (1)"
      ]
    },
    {
      "cell_type": "markdown",
      "metadata": {
        "id": "YovDBhVU46WJ"
      },
      "source": [
        "Материалы:\n",
        "* Макрушин С.В. \"Лекция 4: Форматы данных\"\n",
        "* https://docs.python.org/3/library/json.html\n",
        "* https://docs.python.org/3/library/pickle.html\n",
        "* https://www.crummy.com/software/BeautifulSoup/bs4/doc.ru/bs4ru.html\n",
        "* Уэс Маккини. Python и анализ данных"
      ]
    },
    {
      "cell_type": "markdown",
      "metadata": {
        "id": "Acjjhpp546WK"
      },
      "source": [
        "## Задачи для совместного разбора"
      ]
    },
    {
      "cell_type": "code",
      "source": [
        "import json\n",
        "from bs4 import BeautifulSoup\n",
        "with open(\"addres-book.json\", \"r\") as file:\n",
        "    data = json.load(file)\n",
        "data"
      ],
      "metadata": {
        "id": "Wlz9QiWJ7J1B"
      },
      "execution_count": null,
      "outputs": []
    },
    {
      "cell_type": "markdown",
      "metadata": {
        "id": "_-0-Q7Pj46WK"
      },
      "source": [
        "1. Вывести все адреса электронной почты, содержащиеся в адресной книге `addres-book.json`"
      ]
    },
    {
      "cell_type": "code",
      "source": [
        "[i[\"email\"] for i in data]"
      ],
      "metadata": {
        "id": "Zq4B7EWu7HMB"
      },
      "execution_count": null,
      "outputs": []
    },
    {
      "cell_type": "markdown",
      "metadata": {
        "id": "xCNXMHh846WK"
      },
      "source": [
        "2. Вывести телефоны, содержащиеся в адресной книге `addres-book.json`"
      ]
    },
    {
      "cell_type": "code",
      "source": [
        "[[j[\"phone\"] for j in i[\"phones\"]] for i in data]"
      ],
      "metadata": {
        "id": "JD0XA5ht7RxB"
      },
      "execution_count": null,
      "outputs": []
    },
    {
      "cell_type": "markdown",
      "metadata": {
        "id": "Ovel1uXO46WL"
      },
      "source": [
        "3. По данным из файла `addres-book-q.xml` сформировать список словарей с телефонами каждого из людей. "
      ]
    },
    {
      "cell_type": "code",
      "source": [
        "ad_book = BeautifulSoup(open(\"addres-book-q.xml\",\"r\"))\n",
        "spisok = []\n",
        "for i in ad_book.find_all(\"address\"):\n",
        "  name = i.find(\"name\").get_text()\n",
        "  for j in i.find_all(\"phone\"):\n",
        "    phone = j.get_text()\n",
        "    spisok.append({name: phone})\n",
        "spisok"
      ],
      "metadata": {
        "id": "ZY-Ar9Y78K0X"
      },
      "execution_count": null,
      "outputs": []
    },
    {
      "cell_type": "markdown",
      "metadata": {
        "id": "a6tfSBRt46WL"
      },
      "source": [
        "## Лабораторная работа №4"
      ]
    },
    {
      "cell_type": "markdown",
      "metadata": {
        "id": "umAbAbf-46WL"
      },
      "source": [
        "### JSON"
      ]
    },
    {
      "cell_type": "markdown",
      "metadata": {
        "id": "ZpHMWRaE46WM"
      },
      "source": [
        "1.1 Считайте файл `contributors_sample.json`. Воспользовавшись модулем `json`, преобразуйте содержимое файла в соответствующие объекты python. Выведите на экран информацию о первых 3 пользователях."
      ]
    },
    {
      "cell_type": "code",
      "source": [
        "with open('contributors_sample.json') as json_file:\n",
        "    data = json.load(json_file)\n",
        "for i in data[:3]:\n",
        "    print(i)\n"
      ],
      "metadata": {
        "id": "bQpizzwZ47vC"
      },
      "execution_count": null,
      "outputs": []
    },
    {
      "cell_type": "markdown",
      "metadata": {
        "id": "MW0ZY-_K46WM"
      },
      "source": [
        "1.2 Выведите уникальные почтовые домены, содержащиеся в почтовых адресах людей"
      ]
    },
    {
      "cell_type": "code",
      "source": [
        "set(line[\"mail\"].split(\"@\")[1] for line in data)"
      ],
      "metadata": {
        "id": "AylintFI5rwL"
      },
      "execution_count": null,
      "outputs": []
    },
    {
      "cell_type": "markdown",
      "metadata": {
        "id": "l_n1aHl946WN"
      },
      "source": [
        "1.3 Напишите функцию, которая по `username` ищет человека и выводит информацию о нем. Если пользователь с заданным `username` отсутствует, возбудите исключение `ValueError`"
      ]
    },
    {
      "cell_type": "code",
      "source": [
        "def person_name(username: str):\n",
        "    for line in data:\n",
        "        if username in line[\"username\"]:\n",
        "            return line\n",
        "    raise ValueError\n",
        "\n",
        "name = input(\":\")\n",
        "try:\n",
        "    print(person_name(name))\n",
        "except ValueError:\n",
        "    print(\"Пользователь не найден\")"
      ],
      "metadata": {
        "id": "s6iZzHtm6ZPT"
      },
      "execution_count": null,
      "outputs": []
    },
    {
      "cell_type": "markdown",
      "metadata": {
        "id": "0D32wE0M46WN"
      },
      "source": [
        "1.4 Посчитайте, сколько мужчин и женщин присутсвует в этом наборе данных."
      ]
    },
    {
      "cell_type": "markdown",
      "metadata": {
        "id": "RJmFyNQE46WN"
      },
      "source": [
        "1.5 Создайте `pd.DataFrame` `contributors`, имеющий столбцы `id`, `username` и `sex`."
      ]
    },
    {
      "cell_type": "markdown",
      "metadata": {
        "id": "yJZwLXOt46WO"
      },
      "source": [
        "1.6 Загрузите данные из файла `recipes_sample.csv` (__ЛР2__) в таблицу `recipes`. Объедините `recipes` с таблицей `contributors` с сохранением строк в том случае, если информация о человеке отсутствует в JSON-файле. Для скольких человек информация отсутствует? "
      ]
    },
    {
      "cell_type": "markdown",
      "metadata": {
        "id": "WQ67h7SY46WO"
      },
      "source": [
        "### pickle"
      ]
    },
    {
      "cell_type": "markdown",
      "metadata": {
        "id": "WFcLDOx546WO"
      },
      "source": [
        "2.1 На основе файла `contributors_sample.json` создайте словарь следующего вида: \n",
        "```\n",
        "{\n",
        "    должность: [список username людей, занимавших эту должность]\n",
        "}\n",
        "```"
      ]
    },
    {
      "cell_type": "markdown",
      "metadata": {
        "id": "heEp30tI46WO"
      },
      "source": [
        "2.2 Сохраните результаты в файл `job_people.pickle` и в файл `job_people.json` с использованием форматов pickle и JSON соответственно. Сравните объемы получившихся файлов. При сохранении в JSON укажите аргумент `indent`."
      ]
    },
    {
      "cell_type": "markdown",
      "metadata": {
        "id": "rYFwhDVw46WP"
      },
      "source": [
        "2.3 Считайте файл `job_people.pickle` и продемонстрируйте, что данные считались корректно. "
      ]
    },
    {
      "cell_type": "markdown",
      "metadata": {
        "id": "OYyuWx8746WP"
      },
      "source": [
        "### XML"
      ]
    },
    {
      "cell_type": "markdown",
      "metadata": {
        "id": "HL_tNf3A46WP"
      },
      "source": [
        "3.1 По данным файла `steps_sample.xml` сформируйте словарь с шагами по каждому рецепту вида `{id_рецепта: [\"шаг1\", \"шаг2\"]}`. Сохраните этот словарь в файл `steps_sample.json`"
      ]
    },
    {
      "cell_type": "markdown",
      "metadata": {
        "id": "kw-1ElW346WP"
      },
      "source": [
        "3.2 По данным файла `steps_sample.xml` сформируйте словарь следующего вида: `кол-во_шагов_в_рецепте: [список_id_рецептов]`"
      ]
    },
    {
      "cell_type": "markdown",
      "metadata": {
        "id": "GQmRCrPb46WQ"
      },
      "source": [
        "3.3 Получите список рецептов, в этапах выполнения которых есть информация о времени (часы или минуты). Для отбора подходящих рецептов обратите внимание на атрибуты соответствующих тэгов."
      ]
    },
    {
      "cell_type": "markdown",
      "metadata": {
        "id": "XN8grStz46WQ"
      },
      "source": [
        "3.4 Загрузите данные из файла `recipes_sample.csv` (__ЛР2__) в таблицу `recipes`. Для строк, которые содержат пропуски в столбце `n_steps`, заполните этот столбец на основе файла  `steps_sample.xml`. Строки, в которых столбец `n_steps` заполнен, оставьте без изменений."
      ]
    },
    {
      "cell_type": "markdown",
      "metadata": {
        "id": "gJoUv9gv46WQ"
      },
      "source": [
        "3.5 Проверьте, содержит ли столбец `n_steps` пропуски. Если нет, то преобразуйте его к целочисленному типу и сохраните результаты в файл `recipes_sample_with_filled_nsteps.csv`"
      ]
    },
    {
      "cell_type": "code",
      "execution_count": null,
      "metadata": {
        "id": "DLCprQPY46WR"
      },
      "outputs": [],
      "source": []
    }
  ],
  "metadata": {
    "kernelspec": {
      "display_name": "Python 3",
      "language": "python",
      "name": "python3"
    },
    "language_info": {
      "codemirror_mode": {
        "name": "ipython",
        "version": 3
      },
      "file_extension": ".py",
      "mimetype": "text/x-python",
      "name": "python",
      "nbconvert_exporter": "python",
      "pygments_lexer": "ipython3",
      "version": "3.7.6"
    },
    "colab": {
      "provenance": []
    }
  },
  "nbformat": 4,
  "nbformat_minor": 0
}