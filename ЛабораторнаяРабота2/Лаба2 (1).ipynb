{
  "nbformat": 4,
  "nbformat_minor": 0,
  "metadata": {
    "colab": {
      "provenance": []
    },
    "kernelspec": {
      "name": "python3",
      "display_name": "Python 3"
    },
    "language_info": {
      "name": "python"
    }
  },
  "cells": [
    {
      "cell_type": "code",
      "execution_count": null,
      "metadata": {
        "id": "Nyrh2c7OGViP"
      },
      "outputs": [],
      "source": [
        "import pandas as pd\n",
        "import numpy as np\n",
        "from pandas._libs.tslibs import dtypes\n",
        "import datetime\n",
        "import re"
      ]
    },
    {
      "cell_type": "code",
      "source": [
        "df = pd.read_csv('sp500hst.txt',names = [\"date\", \"ticker\", \"open\", \"high\", \"low\", \"close\", \"volume\"])\n",
        "print(df)"
      ],
      "metadata": {
        "id": "6fqWSPeWGcp8"
      },
      "execution_count": null,
      "outputs": []
    },
    {
      "cell_type": "code",
      "source": [
        "print(round(df.iloc[:, 2:6].mean(),2))"
      ],
      "metadata": {
        "id": "xTa-X87_JE3U"
      },
      "execution_count": null,
      "outputs": []
    },
    {
      "cell_type": "code",
      "source": [
        "df.insert(1, \"month\", value = pd.to_datetime(df['date'],format=\"%Y%m%d\").dt.month)\n",
        "print(df)"
      ],
      "metadata": {
        "id": "KAZCHYSnLu2x"
      },
      "execution_count": null,
      "outputs": []
    },
    {
      "cell_type": "code",
      "source": [
        "print(df[['ticker', 'volume']].groupby('ticker').sum())"
      ],
      "metadata": {
        "id": "1-z91V8aR1TZ"
      },
      "execution_count": null,
      "outputs": []
    },
    {
      "cell_type": "code",
      "source": [
        "df_rashifr = pd.read_csv(\"sp_data2.csv\", sep=';',names = [\"ticker\", \"company\", \"percent\"])\n",
        "df = pd.merge(df,df_rashifr,how='left')\n",
        "print(df)"
      ],
      "metadata": {
        "id": "2YZvAtCLXFny"
      },
      "execution_count": null,
      "outputs": []
    },
    {
      "cell_type": "markdown",
      "source": [
        "Лабораторная работа 2"
      ],
      "metadata": {
        "id": "fGRMwszLoQd-"
      }
    },
    {
      "cell_type": "code",
      "source": [
        "recipes = pd.read_csv(\"recipes_sample.csv\")\n",
        "reviews = pd.read_csv(\"reviews_sample.csv\",index_col = 0)\n",
        "print(recipes.head())\n",
        "print(reviews.head())"
      ],
      "metadata": {
        "id": "RMLosxBTk0jm",
        "colab": {
          "base_uri": "https://localhost:8080/"
        },
        "outputId": "329aec34-de74-41df-e53b-f6b3dec4b124"
      },
      "execution_count": null,
      "outputs": [
        {
          "output_type": "stream",
          "name": "stdout",
          "text": [
            "                                       name     id  minutes  contributor_id  \\\n",
            "0     george s at the cove  black bean soup  44123       90           35193   \n",
            "1        healthy for them  yogurt popsicles  67664       10           91970   \n",
            "2              i can t believe it s spinach  38798       30            1533   \n",
            "3                      italian  gut busters  35173       45           22724   \n",
            "4  love is in the air  beef fondue   sauces  84797       25            4470   \n",
            "\n",
            "    submitted  n_steps                                        description  \\\n",
            "0  2002-10-25      NaN  an original recipe created by chef scott meska...   \n",
            "1  2003-07-26      NaN  my children and their friends ask for my homem...   \n",
            "2  2002-08-29      NaN            these were so go, it surprised even me.   \n",
            "3  2002-07-27      NaN  my sister-in-law made these for us at a family...   \n",
            "4  2004-02-23      4.0  i think a fondue is a very romantic casual din...   \n",
            "\n",
            "   n_ingredients  \n",
            "0           18.0  \n",
            "1            NaN  \n",
            "2            8.0  \n",
            "3            NaN  \n",
            "4            NaN  \n",
            "           user_id  recipe_id        date  rating  \\\n",
            "370476       21752      57993  2003-05-01       5   \n",
            "624300      431813     142201  2007-09-16       5   \n",
            "187037      400708     252013  2008-01-10       4   \n",
            "706134  2001852463     404716  2017-12-11       5   \n",
            "312179       95810     129396  2008-03-14       5   \n",
            "\n",
            "                                                   review  \n",
            "370476  Last week whole sides of frozen salmon fillet ...  \n",
            "624300  So simple and so tasty!  I used a yellow capsi...  \n",
            "187037  Very nice breakfast HH, easy to make and yummy...  \n",
            "706134  These are a favorite for the holidays and so e...  \n",
            "312179  Excellent soup!  The tomato flavor is just gre...  \n"
          ]
        }
      ]
    },
    {
      "cell_type": "code",
      "source": [
        "print(\"Данные о рецептах:\")\n",
        "print(\"Кол-во строк = {}\".format(recipes.shape[0]))\n",
        "print(\"Кол-во столбцов = {}\".format(recipes.shape[1]))\n",
        "print({i:recipes.dtypes[i].name for i in recipes})\n",
        "print(\"Данные о отзывах:\")\n",
        "print(\"Кол-во строк = {}\".format(reviews.shape[0]))\n",
        "print(\"Кол-во столбцов = {}\".format(reviews.shape[1]))\n",
        "print({i:reviews.dtypes[i].name for i in reviews})"
      ],
      "metadata": {
        "id": "sQ_cCIqFmqM9"
      },
      "execution_count": null,
      "outputs": []
    },
    {
      "cell_type": "code",
      "source": [
        "print(\"Данные о рецептах:\")\n",
        "print(\"Доля строк, содержащих пропуски = {}\".format('%.2f' % (((recipes.shape[0]-recipes.dropna().shape[0])/recipes.shape[0])*100)+\"%\"))\n",
        "print(recipes.isnull().sum())\n",
        "print()\n",
        "print(\"Данные о отзывах:\")\n",
        "print(\"Доля строк, содержащих пропуски = {}\".format('%.2f' % (((reviews.shape[0]-reviews.dropna().shape[0])/reviews.shape[0])*100)+\"%\"))\n",
        "print(reviews.isnull().sum())\n"
      ],
      "metadata": {
        "id": "GbCGRC7YoZXq"
      },
      "execution_count": null,
      "outputs": []
    },
    {
      "cell_type": "code",
      "source": [
        "print(\"Данные о рецептах:\")\n",
        "print(recipes[[\"minutes\",\"n_ingredients\",\"n_steps\"]].mean())\n",
        "print()\n",
        "print(\"Данные о отзывах:\")\n",
        "print(reviews[[\"rating\"]].mean())"
      ],
      "metadata": {
        "id": "soypKUlVv0sv"
      },
      "execution_count": null,
      "outputs": []
    },
    {
      "cell_type": "code",
      "source": [
        "print(recipes[\"name\"].sample(10))"
      ],
      "metadata": {
        "id": "24huTcLfxgLJ"
      },
      "execution_count": null,
      "outputs": []
    },
    {
      "cell_type": "code",
      "source": [
        "reviews.reset_index(drop = True)\n"
      ],
      "metadata": {
        "id": "R9l2-HPaytGJ"
      },
      "execution_count": null,
      "outputs": []
    },
    {
      "cell_type": "code",
      "source": [
        "recipes = pd.read_csv(\"recipes_sample.csv\")\n",
        "recipes.loc[(recipes['minutes'] < 21) & (recipes['n_ingredients'] < 6)]"
      ],
      "metadata": {
        "id": "59r8WnGuzp4h"
      },
      "execution_count": null,
      "outputs": []
    },
    {
      "cell_type": "markdown",
      "source": [
        "Работа с датами в pandas"
      ],
      "metadata": {
        "id": "vS4dgHTs0nUL"
      }
    },
    {
      "cell_type": "code",
      "source": [
        "recipes[\"submitted\"] = recipes[\"submitted\"].astype(\"datetime64[ns]\")\n",
        "print({i:recipes.dtypes[i].name for i in recipes})"
      ],
      "metadata": {
        "id": "ruaslnBo0ra3",
        "outputId": "ef8e320b-00ca-490e-865b-a39edefd8908",
        "colab": {
          "base_uri": "https://localhost:8080/",
          "height": 184
        }
      },
      "execution_count": null,
      "outputs": [
        {
          "output_type": "error",
          "ename": "NameError",
          "evalue": "ignored",
          "traceback": [
            "\u001b[0;31m---------------------------------------------------------------------------\u001b[0m",
            "\u001b[0;31mNameError\u001b[0m                                 Traceback (most recent call last)",
            "\u001b[0;32m<ipython-input-1-1dc9f6e149e7>\u001b[0m in \u001b[0;36m<module>\u001b[0;34m\u001b[0m\n\u001b[0;32m----> 1\u001b[0;31m \u001b[0mrecipes\u001b[0m\u001b[0;34m[\u001b[0m\u001b[0;34m\"submitted\"\u001b[0m\u001b[0;34m]\u001b[0m \u001b[0;34m=\u001b[0m \u001b[0mrecipes\u001b[0m\u001b[0;34m[\u001b[0m\u001b[0;34m\"submitted\"\u001b[0m\u001b[0;34m]\u001b[0m\u001b[0;34m.\u001b[0m\u001b[0mastype\u001b[0m\u001b[0;34m(\u001b[0m\u001b[0;34m\"datetime64[ns]\"\u001b[0m\u001b[0;34m)\u001b[0m\u001b[0;34m\u001b[0m\u001b[0;34m\u001b[0m\u001b[0m\n\u001b[0m\u001b[1;32m      2\u001b[0m \u001b[0mprint\u001b[0m\u001b[0;34m(\u001b[0m\u001b[0;34m{\u001b[0m\u001b[0mi\u001b[0m\u001b[0;34m:\u001b[0m\u001b[0mrecipes\u001b[0m\u001b[0;34m.\u001b[0m\u001b[0mdtypes\u001b[0m\u001b[0;34m[\u001b[0m\u001b[0mi\u001b[0m\u001b[0;34m]\u001b[0m\u001b[0;34m.\u001b[0m\u001b[0mname\u001b[0m \u001b[0;32mfor\u001b[0m \u001b[0mi\u001b[0m \u001b[0;32min\u001b[0m \u001b[0mrecipes\u001b[0m\u001b[0;34m}\u001b[0m\u001b[0;34m)\u001b[0m\u001b[0;34m\u001b[0m\u001b[0;34m\u001b[0m\u001b[0m\n",
            "\u001b[0;31mNameError\u001b[0m: name 'recipes' is not defined"
          ]
        }
      ]
    },
    {
      "cell_type": "code",
      "source": [
        "recipes[\"submitted\"] = recipes[\"submitted\"].astype(\"datetime64[ns]\")\n",
        "recipes.loc[(recipes['submitted'].dt.year < 2011)]"
      ],
      "metadata": {
        "id": "triU04BG1Zv2"
      },
      "execution_count": null,
      "outputs": []
    },
    {
      "cell_type": "markdown",
      "source": [
        "Работа со строковыми данными в pandas"
      ],
      "metadata": {
        "id": "WoKLkpkb17PY"
      }
    },
    {
      "cell_type": "code",
      "source": [
        "recipes[\"description_length\"] = recipes[\"description\"].str.len()\n",
        "print(recipes)"
      ],
      "metadata": {
        "id": "A1xaStCb2Cq2",
        "colab": {
          "base_uri": "https://localhost:8080/"
        },
        "outputId": "c8a866f3-8654-4689-90b6-74d651df0b1f"
      },
      "execution_count": null,
      "outputs": [
        {
          "output_type": "stream",
          "name": "stdout",
          "text": [
            "                                               name      id  minutes  \\\n",
            "0             george s at the cove  black bean soup   44123       90   \n",
            "1                healthy for them  yogurt popsicles   67664       10   \n",
            "2                      i can t believe it s spinach   38798       30   \n",
            "3                              italian  gut busters   35173       45   \n",
            "4          love is in the air  beef fondue   sauces   84797       25   \n",
            "...                                             ...     ...      ...   \n",
            "29995  zurie s holey rustic olive and cheddar bread  267661       80   \n",
            "29996          zwetschgenkuchen  bavarian plum cake  386977      240   \n",
            "29997   zwiebelkuchen   southwest german onion cake  103312       75   \n",
            "29998                                   zydeco soup  486161       60   \n",
            "29999        cookies by design   cookies on a stick  298512       29   \n",
            "\n",
            "       contributor_id  submitted  n_steps  \\\n",
            "0               35193 2002-10-25      NaN   \n",
            "1               91970 2003-07-26      NaN   \n",
            "2                1533 2002-08-29      NaN   \n",
            "3               22724 2002-07-27      NaN   \n",
            "4                4470 2004-02-23      4.0   \n",
            "...               ...        ...      ...   \n",
            "29995          200862 2007-11-25     16.0   \n",
            "29996          177443 2009-08-24      NaN   \n",
            "29997          161745 2004-11-03      NaN   \n",
            "29998          227978 2012-08-29      NaN   \n",
            "29999          506822 2008-04-15      9.0   \n",
            "\n",
            "                                             description  n_ingredients  \\\n",
            "0      an original recipe created by chef scott meska...           18.0   \n",
            "1      my children and their friends ask for my homem...            NaN   \n",
            "2                these were so go, it surprised even me.            8.0   \n",
            "3      my sister-in-law made these for us at a family...            NaN   \n",
            "4      i think a fondue is a very romantic casual din...            NaN   \n",
            "...                                                  ...            ...   \n",
            "29995  this is based on a french recipe but i changed...           10.0   \n",
            "29996  this is a traditional fresh plum cake, thought...           11.0   \n",
            "29997  this is a traditional late summer early fall s...            NaN   \n",
            "29998  this is a delicious soup that i originally fou...            NaN   \n",
            "29999  i've heard of the 'cookies by design' company,...           10.0   \n",
            "\n",
            "       description_length  \n",
            "0                   330.0  \n",
            "1                   255.0  \n",
            "2                    39.0  \n",
            "3                   154.0  \n",
            "4                   587.0  \n",
            "...                   ...  \n",
            "29995               484.0  \n",
            "29996               286.0  \n",
            "29997               311.0  \n",
            "29998               648.0  \n",
            "29999               125.0  \n",
            "\n",
            "[30000 rows x 9 columns]\n"
          ]
        }
      ]
    },
    {
      "cell_type": "code",
      "source": [
        "recipes[\"name\"] = recipes[\"name\"].str.capitalize()\n",
        "print(recipes)"
      ],
      "metadata": {
        "id": "Y37Wdkcu2gDU",
        "colab": {
          "base_uri": "https://localhost:8080/"
        },
        "outputId": "a01019ba-c896-40e0-a672-67db763d5f58"
      },
      "execution_count": null,
      "outputs": [
        {
          "output_type": "stream",
          "name": "stdout",
          "text": [
            "                                               name      id  minutes  \\\n",
            "0             George s at the cove  black bean soup   44123       90   \n",
            "1                Healthy for them  yogurt popsicles   67664       10   \n",
            "2                      I can t believe it s spinach   38798       30   \n",
            "3                              Italian  gut busters   35173       45   \n",
            "4          Love is in the air  beef fondue   sauces   84797       25   \n",
            "...                                             ...     ...      ...   \n",
            "29995  Zurie s holey rustic olive and cheddar bread  267661       80   \n",
            "29996          Zwetschgenkuchen  bavarian plum cake  386977      240   \n",
            "29997   Zwiebelkuchen   southwest german onion cake  103312       75   \n",
            "29998                                   Zydeco soup  486161       60   \n",
            "29999        Cookies by design   cookies on a stick  298512       29   \n",
            "\n",
            "       contributor_id  submitted  n_steps  \\\n",
            "0               35193 2002-10-25      NaN   \n",
            "1               91970 2003-07-26      NaN   \n",
            "2                1533 2002-08-29      NaN   \n",
            "3               22724 2002-07-27      NaN   \n",
            "4                4470 2004-02-23      4.0   \n",
            "...               ...        ...      ...   \n",
            "29995          200862 2007-11-25     16.0   \n",
            "29996          177443 2009-08-24      NaN   \n",
            "29997          161745 2004-11-03      NaN   \n",
            "29998          227978 2012-08-29      NaN   \n",
            "29999          506822 2008-04-15      9.0   \n",
            "\n",
            "                                             description  n_ingredients  \\\n",
            "0      an original recipe created by chef scott meska...           18.0   \n",
            "1      my children and their friends ask for my homem...            NaN   \n",
            "2                these were so go, it surprised even me.            8.0   \n",
            "3      my sister-in-law made these for us at a family...            NaN   \n",
            "4      i think a fondue is a very romantic casual din...            NaN   \n",
            "...                                                  ...            ...   \n",
            "29995  this is based on a french recipe but i changed...           10.0   \n",
            "29996  this is a traditional fresh plum cake, thought...           11.0   \n",
            "29997  this is a traditional late summer early fall s...            NaN   \n",
            "29998  this is a delicious soup that i originally fou...            NaN   \n",
            "29999  i've heard of the 'cookies by design' company,...           10.0   \n",
            "\n",
            "       description_length  \n",
            "0                   330.0  \n",
            "1                   255.0  \n",
            "2                    39.0  \n",
            "3                   154.0  \n",
            "4                   587.0  \n",
            "...                   ...  \n",
            "29995               484.0  \n",
            "29996               286.0  \n",
            "29997               311.0  \n",
            "29998               648.0  \n",
            "29999               125.0  \n",
            "\n",
            "[30000 rows x 9 columns]\n"
          ]
        }
      ]
    },
    {
      "cell_type": "code",
      "source": [
        "recipes = pd.read_csv(\"recipes_sample.csv\")\n",
        "recipes[\"name_word_count\"] = recipes[\"name\"].str.findall(r'\\w+').apply(len)\n",
        "print(recipes)\n"
      ],
      "metadata": {
        "id": "aj4sLdaA24EY",
        "colab": {
          "base_uri": "https://localhost:8080/"
        },
        "outputId": "7add981c-e897-4499-b014-dae6da72e5a7"
      },
      "execution_count": null,
      "outputs": [
        {
          "output_type": "stream",
          "name": "stdout",
          "text": [
            "                                               name      id  minutes  \\\n",
            "0             george s at the cove  black bean soup   44123       90   \n",
            "1                healthy for them  yogurt popsicles   67664       10   \n",
            "2                      i can t believe it s spinach   38798       30   \n",
            "3                              italian  gut busters   35173       45   \n",
            "4          love is in the air  beef fondue   sauces   84797       25   \n",
            "...                                             ...     ...      ...   \n",
            "29995  zurie s holey rustic olive and cheddar bread  267661       80   \n",
            "29996          zwetschgenkuchen  bavarian plum cake  386977      240   \n",
            "29997   zwiebelkuchen   southwest german onion cake  103312       75   \n",
            "29998                                   zydeco soup  486161       60   \n",
            "29999        cookies by design   cookies on a stick  298512       29   \n",
            "\n",
            "       contributor_id   submitted  n_steps  \\\n",
            "0               35193  2002-10-25      NaN   \n",
            "1               91970  2003-07-26      NaN   \n",
            "2                1533  2002-08-29      NaN   \n",
            "3               22724  2002-07-27      NaN   \n",
            "4                4470  2004-02-23      4.0   \n",
            "...               ...         ...      ...   \n",
            "29995          200862  2007-11-25     16.0   \n",
            "29996          177443  2009-08-24      NaN   \n",
            "29997          161745  2004-11-03      NaN   \n",
            "29998          227978  2012-08-29      NaN   \n",
            "29999          506822  2008-04-15      9.0   \n",
            "\n",
            "                                             description  n_ingredients  \\\n",
            "0      an original recipe created by chef scott meska...           18.0   \n",
            "1      my children and their friends ask for my homem...            NaN   \n",
            "2                these were so go, it surprised even me.            8.0   \n",
            "3      my sister-in-law made these for us at a family...            NaN   \n",
            "4      i think a fondue is a very romantic casual din...            NaN   \n",
            "...                                                  ...            ...   \n",
            "29995  this is based on a french recipe but i changed...           10.0   \n",
            "29996  this is a traditional fresh plum cake, thought...           11.0   \n",
            "29997  this is a traditional late summer early fall s...            NaN   \n",
            "29998  this is a delicious soup that i originally fou...            NaN   \n",
            "29999  i've heard of the 'cookies by design' company,...           10.0   \n",
            "\n",
            "       name_word_count  \n",
            "0                    8  \n",
            "1                    5  \n",
            "2                    7  \n",
            "3                    3  \n",
            "4                    8  \n",
            "...                ...  \n",
            "29995                8  \n",
            "29996                4  \n",
            "29997                5  \n",
            "29998                2  \n",
            "29999                7  \n",
            "\n",
            "[30000 rows x 9 columns]\n"
          ]
        }
      ]
    },
    {
      "cell_type": "markdown",
      "source": [
        "Группировки таблиц pd.DataFrame"
      ],
      "metadata": {
        "id": "WKA1KxFH7z1A"
      }
    },
    {
      "cell_type": "code",
      "source": [
        "recipes = pd.read_csv(\"recipes_sample.csv\")\n",
        "max_recipes = recipes[['contributor_id', 'id']].groupby('contributor_id').count()\n",
        "print(max_recipes)\n",
        "print(max_recipes[max_recipes[\"id\"] == max_recipes[\"id\"].max()])"
      ],
      "metadata": {
        "id": "ACVydztI70Z1",
        "colab": {
          "base_uri": "https://localhost:8080/"
        },
        "outputId": "11032394-1a98-44fc-dbc4-2d8ba818bf55"
      },
      "execution_count": null,
      "outputs": [
        {
          "output_type": "stream",
          "name": "stdout",
          "text": [
            "                 id\n",
            "contributor_id     \n",
            "1530              5\n",
            "1533            186\n",
            "1534             50\n",
            "1535             40\n",
            "1538              8\n",
            "...             ...\n",
            "2001968497        2\n",
            "2002059754        1\n",
            "2002234079        1\n",
            "2002234259        1\n",
            "2002247884        1\n",
            "\n",
            "[8404 rows x 1 columns]\n",
            "                 id\n",
            "contributor_id     \n",
            "89831           421\n"
          ]
        }
      ]
    },
    {
      "cell_type": "code",
      "source": [
        "reviews = pd.read_csv(\"reviews_sample.csv\")\n",
        "a = reviews[[\"recipe_id\",\"rating\"]].groupby('recipe_id').mean()\n",
        "print(a)\n",
        "print(\"Отзывы отсутствуют для {} рецептов\".format(reviews.shape[0] - a.shape[0]))"
      ],
      "metadata": {
        "id": "iwcmE9mSCBYR",
        "colab": {
          "base_uri": "https://localhost:8080/"
        },
        "outputId": "ab490940-4d6b-4760-cfff-a6710bc8bac2"
      },
      "execution_count": null,
      "outputs": [
        {
          "output_type": "stream",
          "name": "stdout",
          "text": [
            "             rating\n",
            "recipe_id          \n",
            "48         1.000000\n",
            "55         4.750000\n",
            "66         4.944444\n",
            "91         4.750000\n",
            "94         5.000000\n",
            "...             ...\n",
            "536547     5.000000\n",
            "536610     0.000000\n",
            "536728     4.000000\n",
            "536729     4.750000\n",
            "536747     0.000000\n",
            "\n",
            "[28100 rows x 1 columns]\n",
            "Отзывы отсутствуют для 98596 рецептов\n"
          ]
        }
      ]
    },
    {
      "cell_type": "code",
      "source": [
        "recipes = pd.read_csv(\"recipes_sample.csv\")\n",
        "recipes[\"submitted\"] = recipes[\"submitted\"].astype(\"datetime64[ns]\")\n",
        "print(recipes[['name']].groupby(recipes[\"submitted\"].dt.year).count())"
      ],
      "metadata": {
        "id": "AyNKvQqKEKtI",
        "colab": {
          "base_uri": "https://localhost:8080/"
        },
        "outputId": "8c17d044-f7ff-4a2b-d242-951e76df8b91"
      },
      "execution_count": null,
      "outputs": [
        {
          "output_type": "stream",
          "name": "stdout",
          "text": [
            "           name\n",
            "submitted      \n",
            "1999        275\n",
            "2000        104\n",
            "2001        589\n",
            "2002       2644\n",
            "2003       2334\n",
            "2004       2153\n",
            "2005       3130\n",
            "2006       3473\n",
            "2007       4429\n",
            "2008       4029\n",
            "2009       2963\n",
            "2010       1538\n",
            "2011        922\n",
            "2012        659\n",
            "2013        490\n",
            "2014        139\n",
            "2015         42\n",
            "2016         24\n",
            "2017         39\n",
            "2018         24\n"
          ]
        }
      ]
    },
    {
      "cell_type": "markdown",
      "source": [
        "Объединение таблиц pd.DataFrame"
      ],
      "metadata": {
        "id": "K6cnZE7DGMEE"
      }
    },
    {
      "cell_type": "code",
      "source": [
        "new_df = pd.merge(recipes[[\"id\",\"name\"]], reviews[[\"user_id\",\"rating\",\"recipe_id\"]], how='right',left_on=\"id\", right_on='recipe_id')\n",
        "new_df = new_df.dropna()\n",
        "new_df = new_df.reset_index(drop = True)\n",
        "new_df.drop('recipe_id', axis=1, inplace=True)\n",
        "print(new_df)\n",
        "\n",
        "print()\n",
        "print(reviews[reviews['review'].isna()].index)\n",
        "print(reviews.iloc[8881])\n",
        "print()\n",
        "print(new_df.loc[new_df[\"user_id\"]==2001567544])"
      ],
      "metadata": {
        "id": "WKn9wtxDGPEl",
        "colab": {
          "base_uri": "https://localhost:8080/"
        },
        "outputId": "826cae38-cbce-40e5-d02f-29655d1d668a"
      },
      "execution_count": null,
      "outputs": [
        {
          "output_type": "stream",
          "name": "stdout",
          "text": [
            "            id                                               name     user_id  \\\n",
            "0        57993                               salmon with tomatoes       21752   \n",
            "1       142201                               lemon cajun stir fry      431813   \n",
            "2       252013        cottage cheese  honey and cinnamon on toast      400708   \n",
            "3       404716                                      belly buttons  2001852463   \n",
            "4       129396                                 double tomato soup       95810   \n",
            "...        ...                                                ...         ...   \n",
            "126691  335534                     melissa s lemon pepper chicken     1270706   \n",
            "126692    8701                    should be illegal oven bbq ribs     2282344   \n",
            "126693  222001                                 cheesy bacon bread      689540   \n",
            "126694  354979  kittencal s pan seared steak  stove top to ove...  2000242659   \n",
            "126695  415599                               montreal steak spice      463435   \n",
            "\n",
            "        rating  \n",
            "0            5  \n",
            "1            5  \n",
            "2            4  \n",
            "3            5  \n",
            "4            5  \n",
            "...        ...  \n",
            "126691       4  \n",
            "126692       0  \n",
            "126693       5  \n",
            "126694       5  \n",
            "126695       5  \n",
            "\n",
            "[126696 rows x 4 columns]\n",
            "\n",
            "Int64Index([  8881,  12129,  18578,  21913,  33232,  42783,  42855,  43551,\n",
            "             53998,  55100,  56197,  59803,  67973,  71067,  96199, 105206,\n",
            "            109590],\n",
            "           dtype='int64')\n",
            "Unnamed: 0         56957\n",
            "user_id       2001567544\n",
            "recipe_id           9054\n",
            "date          2017-06-03\n",
            "rating                 5\n",
            "review               NaN\n",
            "Name: 8881, dtype: object\n",
            "\n",
            "        id                             name     user_id  rating\n",
            "8881  9054  leftover mashed potato pancakes  2001567544       5\n"
          ]
        }
      ]
    },
    {
      "cell_type": "code",
      "source": [
        "recipes = pd.read_csv(\"recipes_sample.csv\")\n",
        "reviews = pd.read_csv(\"reviews_sample.csv\")\n",
        "recipes = recipes.fillna(0, downcast='infer')\n",
        "reviews = reviews.fillna(0, downcast='infer')\n",
        "group_review = reviews.groupby(\"recipe_id\")[\"review\"].count().reset_index(level=0)\n",
        "print(group_review)\n",
        "df = recipes[['id','name']].merge(group_review, left_on='id',right_on='recipe_id', how='left').fillna(0, downcast='infer').drop(['recipe_id'],axis=1)\n",
        "df = df.rename(columns={'id': 'recipe_id', 'review': 'review_count'})\n",
        "print(df)\n",
        "print(df.loc[df[\"review_count\"]==0])\n"
      ],
      "metadata": {
        "id": "VY1GdEuqQP5y"
      },
      "execution_count": null,
      "outputs": []
    },
    {
      "cell_type": "code",
      "source": [
        "reviews = pd.read_csv(\"reviews_sample.csv\")\n",
        "print(reviews['rating'].groupby(pd.DatetimeIndex(reviews['date']).year).mean().sort_values())"
      ],
      "metadata": {
        "id": "sqymg0tMqXPA"
      },
      "execution_count": null,
      "outputs": []
    },
    {
      "cell_type": "markdown",
      "source": [
        "Сохранение таблиц pd.DataFrame"
      ],
      "metadata": {
        "id": "wGCkf8j-qrUD"
      }
    },
    {
      "cell_type": "code",
      "source": [
        "recipes = pd.read_csv(\"recipes_sample.csv\")\n",
        "recipes[\"description_length\"] = recipes[\"description\"].str.len()\n",
        "recipes[\"name\"] = recipes[\"name\"].str.capitalize()\n",
        "recipes[\"name_word_count\"] = recipes[\"name\"].str.findall(r'\\w+').apply(len)\n",
        "recipes.sort_values(by=['name_word_count'])\n",
        "recipes.to_csv(\"3.1-3.3.csv\")\n"
      ],
      "metadata": {
        "id": "c4oROy4rqsBk"
      },
      "execution_count": null,
      "outputs": []
    },
    {
      "cell_type": "code",
      "source": [
        "recipes = pd.read_csv(\"recipes_sample.csv\")\n",
        "reviews = pd.read_csv(\"reviews_sample.csv\")\n",
        "new_df = pd.merge(recipes[[\"id\",\"name\"]], reviews[[\"user_id\",\"rating\",\"recipe_id\",\"review\"]], how='right',left_on=\"id\", right_on='recipe_id')\n",
        "new_df = new_df.dropna()\n",
        "new_df = new_df.reset_index(drop = True)\n",
        "new_df.drop('recipe_id', axis=1, inplace=True)\n",
        "recipes = recipes.fillna(0, downcast='infer')\n",
        "reviews = reviews.fillna(0, downcast='infer')\n",
        "group_review = reviews.groupby(\"recipe_id\")[\"review\"].count().reset_index(level=0)\n",
        "df = recipes[['id','name']].merge(group_review, left_on='id',right_on='recipe_id', how='left').fillna(0, downcast='infer').drop(['recipe_id'],axis=1)\n",
        "df = df.rename(columns={'id': 'recipe_id', 'review': 'review_count'})\n",
        "\n",
        "with pd.ExcelWriter(r\"5.1-5.2.xlsx\") as writer:\n",
        "    new_df.to_excel(writer, sheet_name=\"Рецепты с оценками\")\n",
        "    df.to_excel(writer, sheet_name=\"Количество отзывов по рецептам\")"
      ],
      "metadata": {
        "id": "C1L7wH0bsREq"
      },
      "execution_count": null,
      "outputs": []
    }
  ]
}